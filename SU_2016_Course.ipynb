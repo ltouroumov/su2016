{
 "cells": [
  {
   "cell_type": "code",
   "execution_count": 47,
   "metadata": {
    "collapsed": true
   },
   "outputs": [],
   "source": [
    "import csv\n",
    "import random\n",
    "from sklearn import naive_bayes\n",
    "from sklearn.ensemble.forest import RandomForestRegressor, ExtraTreesRegressor\n",
    "from sklearn.ensemble.gradient_boosting import GradientBoostingRegressor\n",
    "from sklearn.tree.tree import DecisionTreeRegressor\n",
    "from sklearn.linear_model.ridge import Ridge\n",
    "import sklearn.metrics\n",
    "from sklearn.naive_bayes import GaussianNB\n",
    "from sklearn.neighbors.regression import KNeighborsRegressor\n",
    "from sklearn import cross_validation\n",
    "from sklearn import datasets\n",
    "from sklearn.cross_validation import StratifiedKFold\n",
    "import pandas as pd\n",
    "import matplotlib\n",
    "%matplotlib inline\n",
    "import matplotlib.pyplot as plt\n",
    "\n",
    "#Set the seed\n",
    "random.seed(42)"
   ]
  },
  {
   "cell_type": "code",
   "execution_count": 3,
   "metadata": {
    "collapsed": false
   },
   "outputs": [
    {
     "name": "stderr",
     "output_type": "stream",
     "text": [
      "/usr/local/lib/python2.7/dist-packages/pandas/io/parsers.py:1170: DtypeWarning: Columns (6) have mixed types. Specify dtype option on import or set low_memory=False.\n",
      "  data = self._reader.read(nrows)\n"
     ]
    },
    {
     "data": {
      "text/html": [
       "<div>\n",
       "<table border=\"1\" class=\"dataframe\">\n",
       "  <thead>\n",
       "    <tr style=\"text-align: right;\">\n",
       "      <th></th>\n",
       "      <th>id</th>\n",
       "      <th>annee_naissance</th>\n",
       "      <th>annee_permis</th>\n",
       "      <th>marque</th>\n",
       "      <th>puis_fiscale</th>\n",
       "      <th>anc_veh</th>\n",
       "      <th>codepostal</th>\n",
       "      <th>energie_veh</th>\n",
       "      <th>kmage_annuel</th>\n",
       "      <th>crm</th>\n",
       "      <th>...</th>\n",
       "      <th>var14</th>\n",
       "      <th>var15</th>\n",
       "      <th>var16</th>\n",
       "      <th>var17</th>\n",
       "      <th>var18</th>\n",
       "      <th>var19</th>\n",
       "      <th>var20</th>\n",
       "      <th>var21</th>\n",
       "      <th>var22</th>\n",
       "      <th>prime_tot_ttc</th>\n",
       "    </tr>\n",
       "  </thead>\n",
       "  <tbody>\n",
       "    <tr>\n",
       "      <th>0</th>\n",
       "      <td>1</td>\n",
       "      <td>1986</td>\n",
       "      <td>2006</td>\n",
       "      <td>RENAULT</td>\n",
       "      <td>4</td>\n",
       "      <td>1</td>\n",
       "      <td>1034</td>\n",
       "      <td>gpl</td>\n",
       "      <td>2924</td>\n",
       "      <td>68</td>\n",
       "      <td>...</td>\n",
       "      <td>N</td>\n",
       "      <td>1</td>\n",
       "      <td>1</td>\n",
       "      <td>1</td>\n",
       "      <td>27</td>\n",
       "      <td>0</td>\n",
       "      <td>0</td>\n",
       "      <td>0</td>\n",
       "      <td>1</td>\n",
       "      <td>254.75</td>\n",
       "    </tr>\n",
       "    <tr>\n",
       "      <th>1</th>\n",
       "      <td>2</td>\n",
       "      <td>1986</td>\n",
       "      <td>2006</td>\n",
       "      <td>RENAULT</td>\n",
       "      <td>8</td>\n",
       "      <td>2</td>\n",
       "      <td>1034</td>\n",
       "      <td>gpl</td>\n",
       "      <td>11580</td>\n",
       "      <td>50</td>\n",
       "      <td>...</td>\n",
       "      <td>N</td>\n",
       "      <td>2</td>\n",
       "      <td>1</td>\n",
       "      <td>1</td>\n",
       "      <td>28</td>\n",
       "      <td>0</td>\n",
       "      <td>0</td>\n",
       "      <td>0</td>\n",
       "      <td>1</td>\n",
       "      <td>259.89</td>\n",
       "    </tr>\n",
       "    <tr>\n",
       "      <th>2</th>\n",
       "      <td>3</td>\n",
       "      <td>1982</td>\n",
       "      <td>2001</td>\n",
       "      <td>RENAULT</td>\n",
       "      <td>7</td>\n",
       "      <td>2</td>\n",
       "      <td>1034</td>\n",
       "      <td>gpl</td>\n",
       "      <td>7149</td>\n",
       "      <td>95</td>\n",
       "      <td>...</td>\n",
       "      <td>N</td>\n",
       "      <td>3</td>\n",
       "      <td>1</td>\n",
       "      <td>1</td>\n",
       "      <td>29</td>\n",
       "      <td>0</td>\n",
       "      <td>0</td>\n",
       "      <td>0</td>\n",
       "      <td>1</td>\n",
       "      <td>431.65</td>\n",
       "    </tr>\n",
       "    <tr>\n",
       "      <th>3</th>\n",
       "      <td>4</td>\n",
       "      <td>1987</td>\n",
       "      <td>2006</td>\n",
       "      <td>DACIA</td>\n",
       "      <td>5</td>\n",
       "      <td>2</td>\n",
       "      <td>1034</td>\n",
       "      <td>gpl</td>\n",
       "      <td>6526</td>\n",
       "      <td>100</td>\n",
       "      <td>...</td>\n",
       "      <td>N</td>\n",
       "      <td>3</td>\n",
       "      <td>1</td>\n",
       "      <td>1</td>\n",
       "      <td>29</td>\n",
       "      <td>0</td>\n",
       "      <td>0</td>\n",
       "      <td>0</td>\n",
       "      <td>1</td>\n",
       "      <td>577.99</td>\n",
       "    </tr>\n",
       "    <tr>\n",
       "      <th>4</th>\n",
       "      <td>5</td>\n",
       "      <td>1994</td>\n",
       "      <td>2013</td>\n",
       "      <td>CITROEN</td>\n",
       "      <td>4</td>\n",
       "      <td>2</td>\n",
       "      <td>1034</td>\n",
       "      <td>gpl</td>\n",
       "      <td>2872</td>\n",
       "      <td>50</td>\n",
       "      <td>...</td>\n",
       "      <td>N</td>\n",
       "      <td>2</td>\n",
       "      <td>1</td>\n",
       "      <td>4</td>\n",
       "      <td>26</td>\n",
       "      <td>0</td>\n",
       "      <td>1</td>\n",
       "      <td>1</td>\n",
       "      <td>4</td>\n",
       "      <td>222.67</td>\n",
       "    </tr>\n",
       "  </tbody>\n",
       "</table>\n",
       "<p>5 rows × 34 columns</p>\n",
       "</div>"
      ],
      "text/plain": [
       "   id  annee_naissance  annee_permis   marque  puis_fiscale  anc_veh  \\\n",
       "0   1             1986          2006  RENAULT             4        1   \n",
       "1   2             1986          2006  RENAULT             8        2   \n",
       "2   3             1982          2001  RENAULT             7        2   \n",
       "3   4             1987          2006    DACIA             5        2   \n",
       "4   5             1994          2013  CITROEN             4        2   \n",
       "\n",
       "  codepostal energie_veh  kmage_annuel  crm      ...       var14  var15  \\\n",
       "0       1034         gpl          2924   68      ...           N      1   \n",
       "1       1034         gpl         11580   50      ...           N      2   \n",
       "2       1034         gpl          7149   95      ...           N      3   \n",
       "3       1034         gpl          6526  100      ...           N      3   \n",
       "4       1034         gpl          2872   50      ...           N      2   \n",
       "\n",
       "   var16  var17  var18  var19 var20 var21 var22  prime_tot_ttc  \n",
       "0      1      1     27      0     0     0     1         254.75  \n",
       "1      1      1     28      0     0     0     1         259.89  \n",
       "2      1      1     29      0     0     0     1         431.65  \n",
       "3      1      1     29      0     0     0     1         577.99  \n",
       "4      1      4     26      0     1     1     4         222.67  \n",
       "\n",
       "[5 rows x 34 columns]"
      ]
     },
     "execution_count": 3,
     "metadata": {},
     "output_type": "execute_result"
    }
   ],
   "source": [
    "df=pd.read_csv('./data/ech_apprentissage.csv',\";\")\n",
    "df.head()"
   ]
  },
  {
   "cell_type": "code",
   "execution_count": 43,
   "metadata": {
    "collapsed": false
   },
   "outputs": [
    {
     "data": {
      "image/png": "[encoded data removed]",
      "text/plain": [
       "<matplotlib.figure.Figure at 0x7fda96588090>"
      ]
     },
     "metadata": {},
     "output_type": "display_data"
    }
   ],
   "source": [
    "df[\"prime_tot_ttc\"].describe()\n",
    "df_groupby=df[[\"var14\",\"prime_tot_ttc\"]].groupby(\"var14\").mean()\n",
    "ax=df_groupby.plot(kind=\"bar\")\n",
    "fig = matplotlib.pyplot.gcf()\n",
    "ax.set_title('       Title \\\n",
    "             \\n Sub Title',fontsize=16)\n",
    "ax.set_ylabel('Y label - %')\n",
    "fig.set_size_inches(15.0, 10.0)"
   ]
  },
  {
   "cell_type": "code",
   "execution_count": 25,
   "metadata": {
    "collapsed": false
   },
   "outputs": [
    {
     "data": {
      "image/png": "[encoded data removed]",
      "text/plain": [
       "<matplotlib.figure.Figure at 0x7fda96e82e10>"
      ]
     },
     "metadata": {},
     "output_type": "display_data"
    },
    {
     "data": {
      "image/png": "[encoded data removed]",
      "text/plain": [
       "<matplotlib.figure.Figure at 0x7fda946bd150>"
      ]
     },
     "metadata": {},
     "output_type": "display_data"
    }
   ],
   "source": [
    "df[\"prime_tot_ttc\"].describe()\n",
    "df_groupby=df[[\"anc_veh\",\"prime_tot_ttc\"]].groupby(\"anc_veh\").mean()\n",
    "ax=df_groupby.plot(kind=\"bar\")\n",
    "fig = matplotlib.pyplot.gcf()\n",
    "ax.set_title('       Title \\\n",
    "             \\n Sub Title',fontsize=16)\n",
    "ax.set_ylabel('Y label - %')\n",
    "fig.set_size_inches(15.0, 10.0)\n",
    "\n",
    "#######################################################################################################\n",
    "\n",
    "df[\"prime_tot_ttc\"].describe()\n",
    "df_groupby=df[[\"energie_veh\",\"prime_tot_ttc\"]].groupby(\"energie_veh\").mean()\n",
    "ax=df_groupby.plot(kind=\"bar\")\n",
    "fig = matplotlib.pyplot.gcf()\n",
    "ax.set_title('       Title \\\n",
    "             \\n Sub Title',fontsize=16)\n",
    "ax.set_ylabel('Y label - %')\n",
    "fig.set_size_inches(15.0, 10.0)"
   ]
  },
  {
   "cell_type": "code",
   "execution_count": 28,
   "metadata": {
    "collapsed": false
   },
   "outputs": [],
   "source": [
    "# Open the file\n",
    "filepath_train=\"./data/ech_apprentissage.csv\"\n",
    "file_open=open(filepath_train,\"r\")\n",
    "# Open the csv reader over the file\n",
    "csv_reader=csv.reader(file_open,delimiter=\";\")\n",
    "# Read the first line which is the header\n",
    "header=csv_reader.next()\n",
    "# Load the dataset contained in the file\n",
    "dataset=[]\n",
    "for row in csv_reader:\n",
    "    dataset.append(row)"
   ]
  },
  {
   "cell_type": "code",
   "execution_count": 38,
   "metadata": {
    "collapsed": false
   },
   "outputs": [],
   "source": [
    "# Replace the missing values\n",
    "for index,row in enumerate(dataset):\n",
    "    dataset[index]=[value if value not in [\"NR\",\"\"] else -1 for value in row]"
   ]
  },
  {
   "cell_type": "code",
   "execution_count": 39,
   "metadata": {
    "collapsed": false
   },
   "outputs": [],
   "source": [
    "# Filter the dataset based on the column name\n",
    "feature_to_filter=[\"crm\",\"annee_naissance\",\"kmage_annuel\"]\n",
    "indexes_to_filter=[]\n",
    "for feature in feature_to_filter:\n",
    "    indexes_to_filter.append(header.index(feature))\n",
    "\n",
    "dataset_filtered=[]\n",
    "for row in dataset:\n",
    "    dataset_filtered.append([float(row[index]) for index in indexes_to_filter])\n",
    "# Build the structure containing the target\n",
    "targets=[]\n",
    "for row in dataset:\n",
    "    targets.append(float(row[header.index(\"prime_tot_ttc\")]))"
   ]
  },
  {
   "cell_type": "code",
   "execution_count": 40,
   "metadata": {
    "collapsed": false
   },
   "outputs": [],
   "source": [
    "#Split the datasets to have one for learning and the other for the test\n",
    "train_dataset=[]\n",
    "test_dataset=[]\n",
    "train_target=[]\n",
    "test_target=[]\n",
    "\n",
    "for row,target in zip(dataset_filtered,targets):\n",
    "    if random.random() < 0.70:\n",
    "        train_dataset.append(row)\n",
    "        train_target.append(target)\n",
    "    else:\n",
    "        test_dataset.append(row)\n",
    "        test_target.append(target)"
   ]
  },
  {
   "cell_type": "code",
   "execution_count": 41,
   "metadata": {
    "collapsed": false
   },
   "outputs": [],
   "source": [
    "#Build the model\n",
    "# model=ExtraTreesRegressor()\n",
    "# model=RandomForestRegressor()\n",
    "# model=GradientBoostingRegressor()\n",
    "# model=GaussianNB()\n",
    "model=Ridge()\n",
    "# model=KNeighborsRegressor()\n",
    "# model=DecisionTreeRegressor()\n",
    "model.fit(train_dataset,train_target)\n",
    "\n",
    "#Predict with the model\n",
    "predictions=model.predict(test_dataset)"
   ]
  },
  {
   "cell_type": "code",
   "execution_count": 51,
   "metadata": {
    "collapsed": false
   },
   "outputs": [
    {
     "name": "stdout",
     "output_type": "stream",
     "text": [
      "Accuracy: 0.48 (+/- 0.01)\n"
     ]
    }
   ],
   "source": [
    "### Cross Validation ###\n",
    "\n",
    "#cv = StratifiedKFold(train_dataset, n_folds=5)\n",
    "\n",
    "###scoring\n",
    "scores = cross_validation.cross_val_score(model, train_dataset, train_target, cv=5) \n",
    "print \"Accuracy: %0.2f (+/- %0.2f)\" % (scores.mean(), scores.std() * 2)\n",
    "\n",
    "### getting the predictions ###\n",
    "#predicted = cross_validation.cross_val_predict(clf, train_dataset, train_target, cv=10)\n",
    "#print metrics.accuracy_score(train_target, predicted) \n",
    "model.fit(train_dataset,train_target)\n",
    "predictions=model.predict(test_dataset)"
   ]
  },
  {
   "cell_type": "code",
   "execution_count": 50,
   "metadata": {
    "collapsed": false
   },
   "outputs": [
    {
     "name": "stdout",
     "output_type": "stream",
     "text": [
      "65.699642444\n"
     ]
    }
   ],
   "source": [
    "#Evaluate the quality of the prediction\n",
    "print sklearn.metrics.mean_absolute_error(predictions,test_target)\n",
    "\n",
    "#Alternative -- Compute the mean absolute percentage error"
   ]
  },
  {
   "cell_type": "code",
   "execution_count": null,
   "metadata": {
    "collapsed": true
   },
   "outputs": [],
   "source": [
    "# Now load the test file and use the model built to score the dataset and create the submission file."
   ]
  }
 ],
 "metadata": {
  "anaconda-cloud": {},
  "kernelspec": {
   "display_name": "Python 2",
   "language": "python",
   "name": "python2"
  },
  "language_info": {
   "codemirror_mode": {
    "name": "ipython",
    "version": 2.0
   },
   "file_extension": ".py",
   "mimetype": "text/x-python",
   "name": "python",
   "nbconvert_exporter": "python",
   "pygments_lexer": "ipython2",
   "version": "2.7.11"
  }
 },
 "nbformat": 4,
 "nbformat_minor": 0
}