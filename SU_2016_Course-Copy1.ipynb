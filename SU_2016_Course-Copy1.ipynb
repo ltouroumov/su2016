{
 "cells": [
  {
   "cell_type": "code",
   "execution_count": 1,
   "metadata": {
    "collapsed": false
   },
   "outputs": [
    {
     "name": "stderr",
     "output_type": "stream",
     "text": [
      "/usr/lib64/python2.7/site-packages/matplotlib/font_manager.py:273: UserWarning: Matplotlib is building the font cache using fc-list. This may take a moment.\n",
      "  warnings.warn('Matplotlib is building the font cache using fc-list. This may take a moment.')\n"
     ]
    }
   ],
   "source": [
    "import csv\n",
    "import random\n",
    "from sklearn import naive_bayes\n",
    "from sklearn.ensemble.forest import RandomForestRegressor, ExtraTreesRegressor\n",
    "from sklearn.ensemble.gradient_boosting import GradientBoostingRegressor\n",
    "from sklearn.tree.tree import DecisionTreeRegressor\n",
    "from sklearn.linear_model.ridge import Ridge\n",
    "import sklearn.metrics\n",
    "from sklearn.naive_bayes import GaussianNB\n",
    "from sklearn.neighbors.regression import KNeighborsRegressor\n",
    "from sklearn import cross_validation\n",
    "from sklearn import datasets\n",
    "from sklearn.cross_validation import StratifiedKFold\n",
    "import pandas as pd\n",
    "import matplotlib\n",
    "%matplotlib inline\n",
    "import matplotlib.pyplot as plt\n",
    "\n",
    "#Set the seed\n",
    "random.seed(42)"
   ]
  },
  {
   "cell_type": "code",
   "execution_count": 2,
   "metadata": {
    "collapsed": false
   },
   "outputs": [
    {
     "name": "stderr",
     "output_type": "stream",
     "text": [
      "/usr/lib/python2.7/site-packages/IPython/core/interactiveshell.py:2871: DtypeWarning: Columns (6) have mixed types. Specify dtype option on import or set low_memory=False.\n",
      "  interactivity=interactivity, compiler=compiler, result=result)\n"
     ]
    }
   ],
   "source": [
    "df=pd.read_csv('./data/ech_apprentissage.csv',\";\")"
   ]
  },
  {
   "cell_type": "code",
   "execution_count": 43,
   "metadata": {
    "collapsed": false
   },
   "outputs": [
    {
     "data": {
      "image/png": "[encoded data removed]",
      "text/plain": [
       "<matplotlib.figure.Figure at 0x7fda96588090>"
      ]
     },
     "metadata": {},
     "output_type": "display_data"
    }
   ],
   "source": [
    "df[\"prime_tot_ttc\"].describe()\n",
    "df_groupby=df[[\"var14\",\"prime_tot_ttc\"]].groupby(\"var14\").mean()\n",
    "ax=df_groupby.plot(kind=\"bar\")\n",
    "fig = matplotlib.pyplot.gcf()\n",
    "ax.set_title('       Title \\\n",
    "             \\n Sub Title',fontsize=16)\n",
    "ax.set_ylabel('Y label - %')\n",
    "fig.set_size_inches(15.0, 10.0)"
   ]
  },
  {
   "cell_type": "code",
   "execution_count": null,
   "metadata": {
    "collapsed": false,
    "scrolled": false
   },
   "outputs": [],
   "source": [
    "# df[\"prime_tot_ttc\"].describe()\n",
    "# df_groupby=df[[\"anc_veh\",\"prime_tot_ttc\"]].groupby(\"anc_veh\").mean()\n",
    "# ax=df_groupby.plot(kind=\"bar\")\n",
    "# fig = matplotlib.pyplot.gcf()\n",
    "# ax.set_title('       Title \\\n",
    "#             \\n Sub Title',fontsize=16)\n",
    "#ax.set_ylabel('Y label - %')\n",
    "#fig.set_size_inches(15.0, 10.0)\n",
    "\n",
    "#######################################################################################################\n",
    "\n",
    "df[\"prime_tot_ttc\"].describe()\n",
    "df_groupby=df[[\"var1\",\"prime_tot_ttc\"]].groupby(\"var1\").mean()\n",
    "ax=df_groupby.plot(kind=\"bar\")\n",
    "fig = matplotlib.pyplot.gcf()\n",
    "fig.set_size_inches(15.0, 10.0)"
   ]
  },
  {
   "cell_type": "code",
   "execution_count": null,
   "metadata": {
    "collapsed": true
   },
   "outputs": [],
   "source": []
  }
 ],
 "metadata": {
  "anaconda-cloud": {},
  "kernelspec": {
   "display_name": "Python 2",
   "language": "python",
   "name": "python2"
  },
  "language_info": {
   "codemirror_mode": {
    "name": "ipython",
    "version": 2
   },
   "file_extension": ".py",
   "mimetype": "text/x-python",
   "name": "python",
   "nbconvert_exporter": "python",
   "pygments_lexer": "ipython2",
   "version": "2.7.11"
  }
 },
 "nbformat": 4,
 "nbformat_minor": 0
}
